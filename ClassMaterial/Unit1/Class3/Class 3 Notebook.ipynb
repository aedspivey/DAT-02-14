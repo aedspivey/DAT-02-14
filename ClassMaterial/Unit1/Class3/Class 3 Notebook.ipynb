{
 "cells": [
  {
   "cell_type": "code",
   "execution_count": 3,
   "id": "79058975",
   "metadata": {},
   "outputs": [],
   "source": [
    "import pandas as pd\n",
    "import numpy as np"
   ]
  },
  {
   "cell_type": "code",
   "execution_count": 2,
   "id": "2fbf8911",
   "metadata": {},
   "outputs": [],
   "source": [
    "df = pd.read_csv(\"../data/master.csv\")"
   ]
  },
  {
   "cell_type": "code",
   "execution_count": null,
   "id": "02319c2a",
   "metadata": {},
   "outputs": [],
   "source": [
    "df['visitors']"
   ]
  },
  {
   "cell_type": "code",
   "execution_count": null,
   "id": "d8163bc8",
   "metadata": {},
   "outputs": [],
   "source": [
    "df[['visitors', 'id', 'reserve_visitors']].mean(numeric_only = True)"
   ]
  },
  {
   "cell_type": "code",
   "execution_count": null,
   "id": "863565c8",
   "metadata": {},
   "outputs": [],
   "source": [
    "df.mean(numeric_only = True)"
   ]
  },
  {
   "cell_type": "code",
   "execution_count": null,
   "id": "78a0bb5a",
   "metadata": {},
   "outputs": [],
   "source": [
    "df[:10]"
   ]
  },
  {
   "cell_type": "code",
   "execution_count": 4,
   "id": "264388e5",
   "metadata": {},
   "outputs": [
    {
     "data": {
      "text/plain": [
       "latitude    35.613121\n",
       "dtype: float64"
      ]
     },
     "execution_count": 4,
     "metadata": {},
     "output_type": "execute_result"
    }
   ],
   "source": [
    "df.iloc[:, 5:8].mean(numeric_only = True)"
   ]
  },
  {
   "cell_type": "code",
   "execution_count": 7,
   "id": "512faa00",
   "metadata": {},
   "outputs": [
    {
     "data": {
      "text/plain": [
       "25.0"
      ]
     },
     "execution_count": 7,
     "metadata": {},
     "output_type": "execute_result"
    }
   ],
   "source": [
    "df[df['visitors'] == 25]['visitors'].mean()"
   ]
  },
  {
   "cell_type": "code",
   "execution_count": null,
   "id": "9873f1de",
   "metadata": {},
   "outputs": [],
   "source": []
  }
 ],
 "metadata": {
  "kernelspec": {
   "display_name": "Python 3 (ipykernel)",
   "language": "python",
   "name": "python3"
  },
  "language_info": {
   "codemirror_mode": {
    "name": "ipython",
    "version": 3
   },
   "file_extension": ".py",
   "mimetype": "text/x-python",
   "name": "python",
   "nbconvert_exporter": "python",
   "pygments_lexer": "ipython3",
   "version": "3.7.11"
  }
 },
 "nbformat": 4,
 "nbformat_minor": 5
}
