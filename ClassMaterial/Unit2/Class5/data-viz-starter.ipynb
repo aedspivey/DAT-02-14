{
 "cells": [
  {
   "cell_type": "markdown",
   "metadata": {
    "slideshow": {
     "slide_type": "slide"
    }
   },
   "source": [
    "<img src=\"http://imgur.com/1ZcRyrc.png\" style=\"float: left; margin: 20px; height: 55px\">\n",
    "\n",
    "## Data Visualization With Python\n",
    "\n",
    "_Authors: Dave Yerrington,  Matt Brems, Noelle Brown, Jeff Hale_\n",
    "\n",
    "---"
   ]
  },
  {
   "cell_type": "markdown",
   "metadata": {},
   "source": [
    "## Learning Objectives\n",
    "---\n",
    "\n",
    "After this lesson students will know:\n",
    "\n",
    "- The uses of data visualization\n",
    "- How to create plots with Matplotlib and the pandas wrapper for Matplotlib\n",
    "- Common plot types and when to use which one\n",
    "- Ways to improve datavisualization for communication"
   ]
  },
  {
   "cell_type": "markdown",
   "metadata": {
    "slideshow": {
     "slide_type": "slide"
    }
   },
   "source": [
    "### Prior knowledge requiered\n",
    "\n",
    "- Python and pandas basics\n",
    "\n",
    "---"
   ]
  },
  {
   "cell_type": "markdown",
   "metadata": {},
   "source": [
    "# Uses of data visualization\n",
    "\n",
    "## Purpose # 1 Internal - for yourself!\n",
    "- Gain understanding and insights from data (will see below)\n",
    "- Help make modeling decisions (will see later throughout the course)"
   ]
  },
  {
   "cell_type": "markdown",
   "metadata": {},
   "source": [
    "### Insights\n",
    "\n",
    "It isn't easy to see relationships by just looking at a bunch of numbers.\n",
    "\n",
    "Descriptive statistics can help us understand our data. But they aren't the whole story"
   ]
  },
  {
   "cell_type": "markdown",
   "metadata": {
    "slideshow": {
     "slide_type": "slide"
    }
   },
   "source": [
    "### Example of visualiztion providing insights: Anscombe's Quartet\n",
    "\n",
    "---\n",
    "\n",
    "Below are the summary statistics for four plots.\n",
    "\n",
    "![summary statistics for four different plots](./images/anscombs%20quartet.png)\n",
    "\n",
    "What might they be hiding?\n"
   ]
  },
  {
   "cell_type": "markdown",
   "metadata": {
    "slideshow": {
     "slide_type": "slide"
    }
   },
   "source": [
    "Although the four plots have the same sum, mean, and standard deviation,\n",
    "the data behind them are very different. "
   ]
  },
  {
   "cell_type": "markdown",
   "metadata": {
    "slideshow": {
     "slide_type": "slide"
    }
   },
   "source": [
    "![anscomb's quartet](./images/anscombs%20quartert%20visualization.png)"
   ]
  },
  {
   "cell_type": "markdown",
   "metadata": {
    "slideshow": {
     "slide_type": "slide"
    }
   },
   "source": [
    "From the statistician Francis Anscombe 1973. Anscombe was attacking an impression among many statisticians that \"numerical calculations are exact, but graphs are rough.\"\n",
    "\n",
    "Data viz explorations can give you \"Ah ha!\" moments. 👍"
   ]
  },
  {
   "cell_type": "markdown",
   "metadata": {
    "slideshow": {
     "slide_type": "slide"
    }
   },
   "source": [
    "---\n",
    "## Purpose # 2 External - to communicate with someone else!\n",
    "\n",
    "### Communicate information and maybe persuade\n",
    "\n",
    "By very careful that your visualization:\n",
    "1. is logical\n",
    "1. doesn't mislead \n",
    "1. is clear\n"
   ]
  },
  {
   "cell_type": "markdown",
   "metadata": {
    "slideshow": {
     "slide_type": "slide"
    }
   },
   "source": [
    "### Primary questions for external-facing data viz: \n",
    "\n",
    "- Does this convey the information I want as clearly as possible for my audience? \n",
    "- Could anything be misleading?\n",
    "- Can I make the visualization nicer? \n"
   ]
  },
  {
   "cell_type": "markdown",
   "metadata": {},
   "source": [
    "---\n",
    "## Problems?\n",
    "\n",
    "### Example 1  Bar chart that uses pictogram/pictograph/picto."
   ]
  },
  {
   "cell_type": "markdown",
   "metadata": {},
   "source": [
    "<img src=\"./images/female_height_chart.png\" width=\"400\">"
   ]
  },
  {
   "cell_type": "markdown",
   "metadata": {},
   "source": [
    "Image courtesy of Sabah Inbrahim on [Twitter](https://twitter.com/reina_sabah/status/1291509085855260672)."
   ]
  },
  {
   "cell_type": "markdown",
   "metadata": {},
   "source": [
    "#### What's wrong with it?"
   ]
  },
  {
   "cell_type": "markdown",
   "metadata": {},
   "source": [
    "<img src=\"./images/bad1.jpg\" style=\"height:500px\">"
   ]
  },
  {
   "cell_type": "markdown",
   "metadata": {},
   "source": []
  },
  {
   "cell_type": "markdown",
   "metadata": {},
   "source": [
    "<img src=\"./images/bad2.jpg\" style=\"height:400px\">"
   ]
  },
  {
   "cell_type": "markdown",
   "metadata": {},
   "source": [
    "*Above 2 images from [this source](https://teachdatascience.com/ethicaldataviz/).*"
   ]
  },
  {
   "cell_type": "markdown",
   "metadata": {},
   "source": [
    "### Empathize \n",
    "\n",
    "If your audience sees time as circular, does a line chart make sense?\n",
    "\n",
    "### Ask yourself: *How can I communicate more clearly?*"
   ]
  },
  {
   "cell_type": "markdown",
   "metadata": {
    "slideshow": {
     "slide_type": "slide"
    }
   },
   "source": [
    "---\n",
    "<a id='viz_attr'></a>\n",
    "\n",
    "# Attributes of Good Visualization"
   ]
  },
  {
   "cell_type": "markdown",
   "metadata": {
    "slideshow": {
     "slide_type": "slide"
    }
   },
   "source": [
    "## 1. Less is more. Erase everything you don’t need.\n",
    "\n",
    "#### “Above all else show the data” (p. 92). "
   ]
  },
  {
   "cell_type": "markdown",
   "metadata": {
    "slideshow": {
     "slide_type": "slide"
    }
   },
   "source": [
    "#### “Graphical excellence consists of complex ideas communicated with clarity, precision, and efficiency.” (p. 51)\n",
    "\n",
    "-Tufte in [Visual Display of Quantitative Information](https://www.amazon.com/Visual-Display-Quantitative-Information/dp/1930824130)\n",
    "\n",
    "---\n"
   ]
  },
  {
   "cell_type": "markdown",
   "metadata": {
    "slideshow": {
     "slide_type": "slide"
    }
   },
   "source": [
    "<a id='scales'></a>\n",
    "## 2. Use color to help communicate\n",
    "\n",
    "#### Three types of color scales"
   ]
  },
  {
   "cell_type": "markdown",
   "metadata": {
    "slideshow": {
     "slide_type": "slide"
    }
   },
   "source": [
    "1. sequential\n",
    "1. divergent\n",
    "1. categorical \n",
    "\n",
    "## Sequential\n",
    "\n",
    "Color scales are used to show values ordered from low to high.\n",
    "\n",
    "![sequential](./images/sequential.png)"
   ]
  },
  {
   "cell_type": "markdown",
   "metadata": {
    "slideshow": {
     "slide_type": "slide"
    }
   },
   "source": [
    "## Divergent\n",
    "\n",
    "Color scales are used to show ordered values that have a critical midpoint, like an average or zero.\n",
    "\n",
    "<img src=\"./images/diverging_scales.png\" width=\"500\">\n",
    "\n",
    "[Divergent Color Scales from Plotly](https://plot.ly/python/v3/ipython-notebooks/color-scales/)"
   ]
  },
  {
   "cell_type": "markdown",
   "metadata": {
    "slideshow": {
     "slide_type": "slide"
    }
   },
   "source": [
    "## Categorical\n",
    "\n",
    "Color scales are used to distinguish data that falls into distinct groups.\n",
    "\n",
    "![categorical](./images/categorical.png)\n",
    "\n",
    "[Images via MediaShift](http://mediashift.org/2016/02/checklist-does-your-data-visualization-say-what-you-think-it-says/)"
   ]
  },
  {
   "cell_type": "markdown",
   "metadata": {},
   "source": [
    "### Your color scale should match your kind of data:\n",
    "    \n",
    "1. sequential -continuous\n",
    "1. divergent -continuous with a meaningful midpoint\n",
    "1. categorical -nominal"
   ]
  },
  {
   "cell_type": "markdown",
   "metadata": {},
   "source": [
    "---\n",
    "<a id='accessibility'></a>\n",
    "## Designing for Accessibility\n",
    "\n",
    "Color Blindness/ Color Vision Deficiency (CVD) can take many forms. Red-green is 99% of cases. \n",
    "\n",
    "\"Red–green color blindness is the most common form, followed by blue–yellow color blindness and total color blindness. Red–green color blindness affects up to 8% of males and 0.5% of females of Northern European descent.\" - [Wikipedia](https://en.wikipedia.org/wiki/Color_blindness)\n",
    "\n",
    "\n",
    "### A color-blind friendly palette keeps green objects away from red objects.\n",
    "\n",
    "Blue and orange are common defaults when you need two colors.\n",
    "\n",
    "Here's a larger palette, specified in [hexadecimal](https://simple.wikipedia.org/wiki/Hexadecimal)."
   ]
  },
  {
   "cell_type": "code",
   "execution_count": null,
   "metadata": {},
   "outputs": [],
   "source": [
    "color_list = [\"#E69F00\", \"#56B4E9\", \"#009E73\", \"#F0E442\", \"#D55E00\", \"#0072B2\",  \"#CC79A7\"]"
   ]
  },
  {
   "cell_type": "code",
   "execution_count": null,
   "metadata": {},
   "outputs": [],
   "source": [
    "import matplotlib.pyplot as plt\n",
    "import numpy as np\n",
    "\n",
    "plt.bar(range(1, 8), np.ones(7), color=color_list);"
   ]
  },
  {
   "cell_type": "markdown",
   "metadata": {},
   "source": [
    "See a good discussion [here](https://venngage.com/blog/color-blind-friendly-palette/)."
   ]
  },
  {
   "cell_type": "markdown",
   "metadata": {},
   "source": [
    "---\n",
    "<a id='formats'></a>\n",
    "## Color Formats\n",
    "\n",
    "Color codes have several formats.\n",
    "\n",
    "See with [ColorZilla](https://chrome.google.com/webstore/detail/colorzilla/bhlhnicpbhignbdhedgjhgdocnmhomnp?hl=en) color picker extension in Chrome. Or other options\n",
    "\n",
    "### 1. Hexidecimal \n",
    "\n",
    "  - #ffffff is  white\n",
    "  - #000000 is black\n",
    "  \n",
    "### 2. hsla - hue, saturation, lightness, alpha \n",
    "\n",
    "  - (50%, 50%, 50%) is gross green\n",
    "  \n",
    "### 3. rgb - red, green, blue \n",
    "\n",
    "  - (255, 255, 255) is white\n",
    "  - (0, 0, 0) is black\n",
    "  \n",
    "a = alpha channel  - opacity/transparency"
   ]
  },
  {
   "cell_type": "markdown",
   "metadata": {},
   "source": [
    "---\n",
    "# Making plots in Python\n",
    "\n",
    "Python has many plotting libraries. You will see several throughout the course. Today you will see the basic API for the most common one, _Matplotlib_.\n",
    "## Matplotlib"
   ]
  },
  {
   "cell_type": "code",
   "execution_count": null,
   "metadata": {},
   "outputs": [],
   "source": [
    "# import pandas, numpy, and matplotlib\n"
   ]
  },
  {
   "cell_type": "markdown",
   "metadata": {},
   "source": [
    "#### You can pass many data type sequences to matplotlib functions. \n",
    "\n",
    "Pass a list to `plt.plot` to create a line plot."
   ]
  },
  {
   "cell_type": "code",
   "execution_count": null,
   "metadata": {},
   "outputs": [],
   "source": []
  },
  {
   "cell_type": "markdown",
   "metadata": {},
   "source": [
    "#### Add a semicolon to get rid of the text description "
   ]
  },
  {
   "cell_type": "code",
   "execution_count": null,
   "metadata": {},
   "outputs": [],
   "source": []
  },
  {
   "cell_type": "markdown",
   "metadata": {},
   "source": [
    "#### Or pass a NumPy ndarray"
   ]
  },
  {
   "cell_type": "code",
   "execution_count": null,
   "metadata": {},
   "outputs": [],
   "source": []
  },
  {
   "cell_type": "markdown",
   "metadata": {},
   "source": [
    "#### Or pass a pandas Series or DataFrame with one column.\n",
    "\n",
    "Let's make a DataFrame and then just pass it or a Series."
   ]
  },
  {
   "cell_type": "code",
   "execution_count": null,
   "metadata": {},
   "outputs": [],
   "source": [
    "df = pd.DataFrame({\n",
    "    'height': [1, 2, 3, 6],\n",
    "    'weight': [3, 4, 4, 7]\n",
    "})"
   ]
  },
  {
   "cell_type": "code",
   "execution_count": null,
   "metadata": {},
   "outputs": [],
   "source": []
  },
  {
   "cell_type": "code",
   "execution_count": null,
   "metadata": {},
   "outputs": [],
   "source": []
  },
  {
   "cell_type": "code",
   "execution_count": null,
   "metadata": {},
   "outputs": [],
   "source": []
  },
  {
   "cell_type": "code",
   "execution_count": null,
   "metadata": {},
   "outputs": [],
   "source": []
  },
  {
   "cell_type": "code",
   "execution_count": null,
   "metadata": {},
   "outputs": [],
   "source": []
  },
  {
   "cell_type": "code",
   "execution_count": null,
   "metadata": {},
   "outputs": [],
   "source": []
  },
  {
   "cell_type": "code",
   "execution_count": null,
   "metadata": {},
   "outputs": [],
   "source": []
  },
  {
   "cell_type": "markdown",
   "metadata": {},
   "source": [
    "#### Make a scatterplot with matplotlib."
   ]
  },
  {
   "cell_type": "code",
   "execution_count": null,
   "metadata": {},
   "outputs": [],
   "source": []
  },
  {
   "cell_type": "markdown",
   "metadata": {},
   "source": [
    "#### Add a title"
   ]
  },
  {
   "cell_type": "code",
   "execution_count": null,
   "metadata": {},
   "outputs": [],
   "source": []
  },
  {
   "cell_type": "markdown",
   "metadata": {},
   "source": [
    "---\n",
    "## Anatomy of a Matplotlib figure \n",
    "<img src=\"https://matplotlib.org/stable/_images/sphx_glr_anatomy_001.png\" width='600px' alt='shows plot part names'>\n",
    "\n",
    "Very useful for googling. 👀\n",
    "\n",
    "\n",
    "Source [docs](https://matplotlib.org/stable/gallery/showcase/anatomy.html)"
   ]
  },
  {
   "cell_type": "markdown",
   "metadata": {},
   "source": [
    "#### Change the y axis so it starts at 0."
   ]
  },
  {
   "cell_type": "code",
   "execution_count": null,
   "metadata": {},
   "outputs": [],
   "source": []
  },
  {
   "cell_type": "markdown",
   "metadata": {},
   "source": [
    "#### Add labels to the x and y axes."
   ]
  },
  {
   "cell_type": "code",
   "execution_count": null,
   "metadata": {},
   "outputs": [],
   "source": []
  },
  {
   "cell_type": "code",
   "execution_count": null,
   "metadata": {},
   "outputs": [],
   "source": []
  },
  {
   "cell_type": "markdown",
   "metadata": {},
   "source": [
    "#### Make a histogram.\n"
   ]
  },
  {
   "cell_type": "code",
   "execution_count": null,
   "metadata": {},
   "outputs": [],
   "source": []
  },
  {
   "cell_type": "markdown",
   "metadata": {},
   "source": [
    "### Make a bar plot"
   ]
  },
  {
   "cell_type": "code",
   "execution_count": null,
   "metadata": {},
   "outputs": [],
   "source": []
  },
  {
   "cell_type": "markdown",
   "metadata": {},
   "source": [
    "## Common matplotlib plotting functions\n",
    "\n",
    "```\n",
    "plt.hist()\n",
    "plt.scatter()\n",
    "plt.plot()      \n",
    "plt.bar()\n",
    "```\n"
   ]
  },
  {
   "cell_type": "markdown",
   "metadata": {
    "slideshow": {
     "slide_type": "slide"
    }
   },
   "source": [
    "Let's use these common plot types\n",
    "- histogram\n",
    "- bar \n",
    "- line\n",
    "- scatter\n"
   ]
  },
  {
   "cell_type": "markdown",
   "metadata": {},
   "source": [
    "This data is from [Kaggle](https://www.kaggle.com/crawford/80-cereals?select=cereal.csv) and is part of a [Makeover Monday challenge](https://www.makeovermonday.co.uk/data/) to improve a visualization.\n",
    "\n",
    "<img src=\"./images/cereal.jpeg\" style=\"height: 35==200px\">"
   ]
  },
  {
   "cell_type": "markdown",
   "metadata": {},
   "source": [
    "#### Import and view cereal data"
   ]
  },
  {
   "cell_type": "code",
   "execution_count": null,
   "metadata": {},
   "outputs": [],
   "source": []
  },
  {
   "cell_type": "code",
   "execution_count": null,
   "metadata": {},
   "outputs": [],
   "source": []
  },
  {
   "cell_type": "code",
   "execution_count": null,
   "metadata": {},
   "outputs": [],
   "source": []
  },
  {
   "cell_type": "markdown",
   "metadata": {},
   "source": [
    "---\n",
    "## Bar Charts\n",
    "\n",
    "> \"A bar chart or bar graph is a chart or graph that presents categorical data with rectangular bars with heights or lengths proportional to the values that they represent.\" -[Wikipedia](https://en.wikipedia.org/wiki/Bar_chart)"
   ]
  },
  {
   "cell_type": "markdown",
   "metadata": {},
   "source": [
    "#### Get top 10 most sugary cereals, save as a variable"
   ]
  },
  {
   "cell_type": "code",
   "execution_count": null,
   "metadata": {},
   "outputs": [],
   "source": []
  },
  {
   "cell_type": "markdown",
   "metadata": {},
   "source": [
    "#### Plot it! Let's use a bar chart to visualize the top 10 most sugary cereals\n"
   ]
  },
  {
   "cell_type": "code",
   "execution_count": null,
   "metadata": {},
   "outputs": [],
   "source": []
  },
  {
   "cell_type": "markdown",
   "metadata": {},
   "source": [
    "####  `plt.barh()` will create a horizontal bar chart"
   ]
  },
  {
   "cell_type": "code",
   "execution_count": null,
   "metadata": {},
   "outputs": [],
   "source": []
  },
  {
   "cell_type": "markdown",
   "metadata": {},
   "source": [
    "#### How would you change the order so the longest bars were top?"
   ]
  },
  {
   "cell_type": "code",
   "execution_count": null,
   "metadata": {},
   "outputs": [],
   "source": []
  },
  {
   "cell_type": "markdown",
   "metadata": {},
   "source": [
    "---\n",
    "## Histograms\n",
    "> Histograms are used to display the distribution of a numerical variable."
   ]
  },
  {
   "cell_type": "code",
   "execution_count": null,
   "metadata": {},
   "outputs": [],
   "source": []
  },
  {
   "cell_type": "code",
   "execution_count": null,
   "metadata": {},
   "outputs": [],
   "source": []
  },
  {
   "cell_type": "code",
   "execution_count": null,
   "metadata": {},
   "outputs": [],
   "source": []
  },
  {
   "cell_type": "markdown",
   "metadata": {},
   "source": [
    "#### Let's plot a histogram of cereal rating"
   ]
  },
  {
   "cell_type": "code",
   "execution_count": null,
   "metadata": {},
   "outputs": [],
   "source": []
  },
  {
   "cell_type": "markdown",
   "metadata": {},
   "source": [
    "Choosing the number of bins is an art. 🎨  20-30 is often good."
   ]
  },
  {
   "cell_type": "markdown",
   "metadata": {},
   "source": [
    "---\n",
    "## Scatter Plots\n",
    "> Scatter plots are one way to display the relationship between two variables."
   ]
  },
  {
   "cell_type": "markdown",
   "metadata": {},
   "source": [
    "#### Let's create a scatter plot of calories vs. sugar"
   ]
  },
  {
   "cell_type": "code",
   "execution_count": null,
   "metadata": {},
   "outputs": [],
   "source": []
  },
  {
   "cell_type": "markdown",
   "metadata": {},
   "source": [
    "#### Change the size of the dot based on the amount of fiber"
   ]
  },
  {
   "cell_type": "code",
   "execution_count": null,
   "metadata": {},
   "outputs": [],
   "source": []
  },
  {
   "cell_type": "markdown",
   "metadata": {},
   "source": [
    "#### Add color based on the amount of protein"
   ]
  },
  {
   "cell_type": "code",
   "execution_count": null,
   "metadata": {},
   "outputs": [],
   "source": []
  },
  {
   "cell_type": "code",
   "execution_count": null,
   "metadata": {},
   "outputs": [],
   "source": []
  },
  {
   "cell_type": "markdown",
   "metadata": {},
   "source": [
    "---\n",
    "## Line Graphs\n",
    "> Line graphs (also known as line plots or line charts) use lines to connect data points to show the changes in numerical values over time."
   ]
  },
  {
   "cell_type": "markdown",
   "metadata": {},
   "source": [
    "#### Generate fake data over time"
   ]
  },
  {
   "cell_type": "code",
   "execution_count": null,
   "metadata": {},
   "outputs": [],
   "source": [
    "dates = pd.date_range('3-1-20', '7-30-20')\n",
    "dates"
   ]
  },
  {
   "cell_type": "code",
   "execution_count": null,
   "metadata": {},
   "outputs": [],
   "source": [
    "bowls_eaten = np.random.poisson(1, size = 152)\n",
    "bowls_eaten"
   ]
  },
  {
   "cell_type": "code",
   "execution_count": null,
   "metadata": {},
   "outputs": [],
   "source": []
  },
  {
   "cell_type": "code",
   "execution_count": null,
   "metadata": {},
   "outputs": [],
   "source": []
  },
  {
   "cell_type": "markdown",
   "metadata": {},
   "source": [
    "## ⚠️⚠️ Don't use a line graph UNLESS the data has a natural sequence of even spaces (generally time-related)⚠️⚠️"
   ]
  },
  {
   "cell_type": "markdown",
   "metadata": {
    "slideshow": {
     "slide_type": "slide"
    }
   },
   "source": [
    "---\n",
    "\n",
    "# Choosing the Right Chart Type 📊\n",
    "\n",
    "## If-This-Then-That Guidelines:\n",
    "\n",
    "\n",
    "\n",
    "### Just a number or two\n",
    "If showing just one or two numbers, then:\n",
    "   - Simply report the numbers.\n",
    "   - Compare numbers using a bar chart.\n",
    "   \n",
    "### 1 Variable\n",
    "If visualizing the distribution of one variable, then:\n",
    "   - If the variable is qualitative, (categorical: nominal or ordinal): use a bar chart.\n",
    "   - If the variable is quantitative (numeric: ratio or interval): use a histogram and/or boxplot. \n",
    "   \n",
    "   \n",
    "### 2 Variables\n",
    "If visualizing the relationship between two variables, then:\n",
    "   - If both variables are quantitative, then:\n",
    "       - If one variable is time, then use a line plot.\n",
    "       - Otherwise, use a scatterplot.\n",
    "           \n",
    "   - If one variable is quantitative and another is qualitative, then use multiple histograms or add color to scatter or line plots for the qualitative variable.\n",
    "   \n",
    "   - If both variables are qualitative, then:\n",
    "       - If < 4 categories for either variables, then use a table.\n",
    "       - If >= 3 categories for either variable, then use a heatmap.\n",
    "\n",
    "### 3+ Variables\n",
    "- Use a heatmap and/or box plot and/or multiple scatterplots (we'll cover all these soon).\n",
    "\n",
    "\n",
    "That should cover 95%+ of use cases. 😀\n",
    "___"
   ]
  },
  {
   "cell_type": "markdown",
   "metadata": {},
   "source": [
    "### Pie Charts, 3-D Bar Charts, dual axis charts, and word clouds ⚠️\n",
    "\n",
    "#### Generally **avoid!** Often misleading or confusing. \n",
    "\n",
    "___"
   ]
  },
  {
   "cell_type": "markdown",
   "metadata": {},
   "source": [
    "Tweaking plots to make them just how you want can be tricky. Luckily there are docs, forums, and Stack Overflow. 😀"
   ]
  },
  {
   "cell_type": "markdown",
   "metadata": {
    "slideshow": {
     "slide_type": "slide"
    }
   },
   "source": [
    "## Other Visualization Tools\n",
    "\n",
    "There are *many* Python plotting libraries. You will see [seaborn](https://seaborn.pydata.org/) soon. It uses Matplotlib under the hood. Seaborn is good for making more complex charts look nice quickly. It's a go to for heatmaps and boxplots. 👍\n",
    "\n",
    "Other Popular Python visualization libraries with more interactivity include [Plotly](https://plotly.com/), [Folium](https://python-visualization.github.io/folium/), [Bokeh](http://bokeh.pydata.org/en/latest/) and [Altair](https://altair-viz.github.io/). You'll learn Folium and Plotly in the coming weeks.\n",
    "\n",
    "A variety of non-programming tools are also used in industry. For example [Tableau](https://www.tableau.com/) is not a Python tool, but it's great for making visualizations and dashboards. Microsoft PowerBI and Excel are also common for data analysis. You'll see Tableau in a few weeks, too. "
   ]
  },
  {
   "cell_type": "markdown",
   "metadata": {
    "slideshow": {
     "slide_type": "slide"
    }
   },
   "source": [
    "<a id='conclusion'></a>\n",
    "\n",
    "---\n",
    "\n",
    "## Summary\n",
    "\n",
    "Today you've learned the basics of good visualization. You've seen how to create the most common types of plots using\n",
    "\n",
    "- Vanilla Matplotlib\n",
    "- pandas plotting API (briefly, you'll see more in the future)\n",
    "\n",
    "Future plot types you will learn about throughout the course:\n",
    "\n",
    "- boxplots\n",
    "- heatmaps\n",
    "- autocorrelation plots and partial autocorrelation plots\n",
    "- geographic plots\n",
    "\n",
    "---\n",
    "##  Check for understanding\n",
    "\n",
    "- What questions should you ask yourself to improve your external-facing visualizations?\n",
    " \n",
    "- When would use the following types of charts?\n",
    "    - Bar chart\n",
    "    - Scatter plot\n",
    "    - Histogram \n",
    "    - Line chart"
   ]
  }
 ],
 "metadata": {
  "anaconda-cloud": {},
  "celltoolbar": "Slideshow",
  "kernelspec": {
   "display_name": "Python 3",
   "language": "python",
   "name": "python3"
  },
  "language_info": {
   "codemirror_mode": {
    "name": "ipython",
    "version": 3
   },
   "file_extension": ".py",
   "mimetype": "text/x-python",
   "name": "python",
   "nbconvert_exporter": "python",
   "pygments_lexer": "ipython3",
   "version": "3.9.6"
  }
 },
 "nbformat": 4,
 "nbformat_minor": 4
}
